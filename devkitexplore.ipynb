{
 "cells": [
  {
   "cell_type": "code",
   "execution_count": null,
   "id": "import-truckscenes",
   "metadata": {},
   "outputs": [],
   "source": [
    "from truckscenes import TruckScenes # type: ignore"
   ]
  },
  {
   "cell_type": "code",
   "execution_count": null,
   "id": "initialize-truckscenes",
   "metadata": {},
   "outputs": [],
   "source": [
    "# Path for initializing TruckScenes\n",
    "metadata_path = 'D:/Srini/Autonomous_Proj/Data_MAN/man-truckscenes_metadata_v1.0-mini/man-truckscenes'\n",
    "\n",
    "# Initialize the TruckScenes object\n",
    "trucksc = TruckScenes('v1.0-mini', metadata_path, True)"
   ]
  },
  {
   "cell_type": "code",
   "execution_count": null,
   "id": "select-first-scene",
   "metadata": {},
   "outputs": [],
   "source": [
    "# Select the first scene\n",
    "my_scene = trucksc.scene[0]\n",
    "my_scene"
   ]
  },
  {
   "cell_type": "code",
   "execution_count": null,
   "id": "retrieve-first-sample-token",
   "metadata": {},
   "outputs": [],
   "source": [
    "# Retrieve the first sample token\n",
    "first_sample_token = my_scene['first_sample_token']\n",
    "first_sample_token"
   ]
  },
  {
   "cell_type": "code",
   "execution_count": null,
   "id": "render-first-sample",
   "metadata": {},
   "outputs": [],
   "source": [
    "# Render the first sample\n",
    "trucksc.render_sample(first_sample_token)"
   ]
  },
  {
   "cell_type": "code",
   "execution_count": null,
   "id": "get-sample",
   "metadata": {},
   "outputs": [],
   "source": [
    "my_sample = trucksc.get('sample', first_sample_token)\n",
    "my_sample"
   ]
  },
  {
   "cell_type": "code",
   "execution_count": null,
   "id": "2cfcca31",
   "metadata": {},
   "outputs": [],
   "source": [
    "trucksc.list_sample(my_sample['token'])  # type: ignore"
   ]
  },
  {
   "cell_type": "code",
   "execution_count": null,
   "id": "8e1e7352",
   "metadata": {},
   "outputs": [],
   "source": [
    "sensor = 'CAMERA_LEFT_FRONT'\n",
    "cam_front_data = trucksc.get('sample_data', my_sample['data'][sensor])\n",
    "cam_front_data"
   ]
  },
  {
   "cell_type": "code",
   "execution_count": null,
   "id": "1e707794",
   "metadata": {},
   "outputs": [],
   "source": [
    "trucksc.render_sample_data(cam_front_data['token'])"
   ]
  },
  {
   "cell_type": "code",
   "execution_count": null,
   "id": "a64de8dc",
   "metadata": {},
   "outputs": [],
   "source": [
    "my_annotation_token = my_sample['anns'][9]\n",
    "my_annotation_metadata =  trucksc.get('sample_annotation', my_annotation_token)\n",
    "my_annotation_metadata"
   ]
  },
  {
   "cell_type": "code",
   "execution_count": null,
   "id": "22a4434d",
   "metadata": {},
   "outputs": [],
   "source": [
    "trucksc.render_annotation(my_annotation_token)"
   ]
  },
  {
   "cell_type": "code",
   "execution_count": null,
   "id": "e88f21b0",
   "metadata": {},
   "outputs": [],
   "source": [
    "my_instance = trucksc.get('instance', my_annotation_metadata['instance_token'])\n",
    "my_instance"
   ]
  }
 ],
 "metadata": {
  "kernelspec": {
   "display_name": "venv",
   "language": "python",
   "name": "python3"
  },
  "language_info": {
   "codemirror_mode": {
    "name": "ipython",
    "version": 3
   },
   "file_extension": ".py",
   "mimetype": "text/x-python",
   "name": "python",
   "nbconvert_exporter": "python",
   "pygments_lexer": "ipython3",
   "version": "3.9.7"
  }
 },
 "nbformat": 4,
 "nbformat_minor": 5
}
